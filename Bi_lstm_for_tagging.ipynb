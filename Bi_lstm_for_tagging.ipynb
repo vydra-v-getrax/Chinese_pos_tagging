{
  "nbformat": 4,
  "nbformat_minor": 0,
  "metadata": {
    "colab": {
      "name": "Bi-lstm for tagging.ipynb",
      "provenance": [],
      "toc_visible": true,
      "authorship_tag": "ABX9TyO/wc3TD/9JevdVQ53HOqDC",
      "include_colab_link": true
    },
    "kernelspec": {
      "name": "python3",
      "display_name": "Python 3"
    },
    "language_info": {
      "name": "python"
    },
    "accelerator": "GPU"
  },
  "cells": [
    {
      "cell_type": "markdown",
      "metadata": {
        "id": "view-in-github",
        "colab_type": "text"
      },
      "source": [
        "<a href=\"https://colab.research.google.com/github/vydra-v-getrax/Chinese_pos_tagging/blob/main/Bi_lstm_for_tagging.ipynb\" target=\"_parent\"><img src=\"https://colab.research.google.com/assets/colab-badge.svg\" alt=\"Open In Colab\"/></a>"
      ]
    },
    {
      "cell_type": "markdown",
      "metadata": {
        "id": "OB6_5OwHv2To"
      },
      "source": [
        "# Import data"
      ]
    },
    {
      "cell_type": "code",
      "metadata": {
        "colab": {
          "base_uri": "https://localhost:8080/"
        },
        "id": "K_guhHwUdQWz",
        "outputId": "368eecfd-bd60-490b-90a7-420bfe7f065a"
      },
      "source": [
        "# from google.colab import drive\n",
        "# drive.mount('/content/drive', force_remount=True)\n",
        "\n",
        "import pandas as pd\n",
        "import numpy as np\n",
        "from tqdm import tqdm\n",
        "from tqdm import tqdm\n",
        "tqdm.pandas()\n",
        "import json"
      ],
      "execution_count": 2,
      "outputs": [
        {
          "output_type": "stream",
          "text": [
            "/usr/local/lib/python3.7/dist-packages/tqdm/std.py:658: FutureWarning: The Panel class is removed from pandas. Accessing it from the top-level namespace will also be removed in the next version\n",
            "  from pandas import Panel\n"
          ],
          "name": "stderr"
        }
      ]
    },
    {
      "cell_type": "code",
      "metadata": {
        "id": "AO_PcIThrkpp"
      },
      "source": [
        "from tensorflow.keras.models import Sequential, Model\n",
        "from tensorflow.keras.layers import Dense, Activation, Dropout, LSTM, Bidirectional, TimeDistributed, InputLayer\n",
        "from tensorflow.keras.layers import Embedding, Conv1D, Input, concatenate, SpatialDropout1D, Flatten\n",
        "from tensorflow.keras.preprocessing.sequence import pad_sequences\n",
        "from tensorflow.keras.utils import to_categorical\n",
        "from tensorflow.keras import optimizers\n",
        "import nltk\n",
        "import numpy as np\n",
        "from sklearn.model_selection import train_test_split\n",
        "import matplotlib.pyplot as plt\n",
        "from collections import Counter\n",
        "from keras.utils.vis_utils import plot_model"
      ],
      "execution_count": null,
      "outputs": []
    },
    {
      "cell_type": "code",
      "metadata": {
        "id": "G76_kFaDqDgR"
      },
      "source": [
        "# path = '/content/drive/MyDrive/data/' # this is my path to data\n",
        "# path = "
      ],
      "execution_count": null,
      "outputs": []
    },
    {
      "cell_type": "code",
      "metadata": {
        "id": "CBRuF54yqvw5"
      },
      "source": [
        "df = pd.read_csv(f'{path}parallel_DONE.csv')\n",
        "df = df.fillna('')\n",
        "rus = pd.read_csv(f'{path}parallel_rus_22.csv')\n",
        "rus = rus.fillna('')\n",
        "df['rus'] = rus.pymorphy\n",
        "s = pd.read_csv(f'{path}df_char.csv', sep='\\t')\n",
        "df['sent'] = s.sent"
      ],
      "execution_count": null,
      "outputs": []
    },
    {
      "cell_type": "code",
      "metadata": {
        "id": "PdAwhNbarCji"
      },
      "source": [
        "sentences = df.groupby(['sent']).agg({'target':lambda x: list(x),\n",
        "                                                      'char': lambda x: list(x), \n",
        "                                                      'rus': lambda x: list(x)})"
      ],
      "execution_count": null,
      "outputs": []
    },
    {
      "cell_type": "code",
      "metadata": {
        "id": "_NYPWOtprDJJ"
      },
      "source": [
        "# To run model without test data:\n",
        "# sent_train, tag_train, rus = sentences['char'], sentences['target'], sentences['rus']\n",
        "\n",
        "sent_train, sent_test, tag_train, tag_test = train_test_split(sentences['char'], sentences['target'], test_size=0.2, random_state=1)"
      ],
      "execution_count": null,
      "outputs": []
    },
    {
      "cell_type": "markdown",
      "metadata": {
        "id": "Hcor8I4vrVBe"
      },
      "source": [
        "### Preprocessing"
      ]
    },
    {
      "cell_type": "code",
      "metadata": {
        "colab": {
          "base_uri": "https://localhost:8080/"
        },
        "id": "5zM3Wti6sw5j",
        "outputId": "e3e0e874-66b4-41b0-936e-25e6cb151e6f"
      },
      "source": [
        "# Vocabulary\n",
        "\n",
        "vocab = Counter()\n",
        "for sent in sent_train:\n",
        "    sent = [word.lower() for word in sent]\n",
        "    vocab.update(sent)\n",
        "filtered_vocab = {word for word in vocab if vocab[word] > 5}\n",
        "len(filtered_vocab)"
      ],
      "execution_count": null,
      "outputs": [
        {
          "output_type": "execute_result",
          "data": {
            "text/plain": [
              "746"
            ]
          },
          "metadata": {
            "tags": []
          },
          "execution_count": 12
        }
      ]
    },
    {
      "cell_type": "code",
      "metadata": {
        "colab": {
          "base_uri": "https://localhost:8080/"
        },
        "id": "JAw4tnUwtIKi",
        "outputId": "97e4a8e9-14f8-448b-b06c-44f3826c0e7a"
      },
      "source": [
        "# Indexing for words\n",
        "\n",
        "word2id = {word:i + 2 for i,word in enumerate(filtered_vocab)}\n",
        "word2id['pad'] = 0\n",
        "word2id['unk'] = 1  \n",
        "\n",
        "id2word = {i:word for word, i in word2id.items()}\n",
        "len(id2word)\n"
      ],
      "execution_count": null,
      "outputs": [
        {
          "output_type": "execute_result",
          "data": {
            "text/plain": [
              "748"
            ]
          },
          "metadata": {
            "tags": []
          },
          "execution_count": 13
        }
      ]
    },
    {
      "cell_type": "code",
      "metadata": {
        "id": "MOBvM4v-tPf6"
      },
      "source": [
        "# Indexing for POS tags (target)\n",
        "\n",
        "tag2id = {'pad':0, 'unk':1}  \n",
        "for tags in tag_train:\n",
        "    for tag in tags:\n",
        "      if tag.lower() not in tag2id:\n",
        "        tag2id[tag.lower()] = len(tag2id)\n",
        "\n",
        "id2tag = {i:tag for tag, i in tag2id.items()}"
      ],
      "execution_count": null,
      "outputs": []
    },
    {
      "cell_type": "code",
      "metadata": {
        "id": "z1pb6qmMtVL3"
      },
      "source": [
        "def data2ints(data, smth2id):\n",
        "\n",
        "    \"\"\"\n",
        "    load data to ids\n",
        "    \"\"\"\n",
        "\n",
        "  int_data = []\n",
        "  for seq in data:\n",
        "      int_seq = []\n",
        "      for i in seq:\n",
        "        int_seq.append(smth2id.get(i.lower(), 1))\n",
        "  \n",
        "      int_data.append(int_seq)\n",
        "  return int_data"
      ],
      "execution_count": null,
      "outputs": []
    },
    {
      "cell_type": "code",
      "metadata": {
        "colab": {
          "base_uri": "https://localhost:8080/"
        },
        "id": "BAjHlGwrtieu",
        "outputId": "d7d322eb-deb4-4fcf-9314-39d3f2b3fd36"
      },
      "source": [
        "# X_train_ids = data2ints(sent_train, word2id)\n",
        "# y_train_ids = data2ints(tag_train, tag2id)\n",
        "\n",
        "X_train_ids, X_test_ids = data2ints(sent_train, word2id), data2ints(sent_test, word2id)\n",
        "y_train_ids, y_test_ids = data2ints(tag_train, tag2id), data2ints(tag_test, tag2id)\n",
        "print(X_train_ids[0])\n",
        "print(y_train_ids[0])\n"
      ],
      "execution_count": null,
      "outputs": [
        {
          "output_type": "stream",
          "text": [
            "[72, 415, 1, 1, 270, 557, 690, 692, 415, 388, 566, 224, 1, 298, 462, 650, 605, 300, 248, 707, 581, 1, 182, 1, 293, 596, 1, 605, 56, 415, 651, 154, 113, 186, 205]\n",
            "[2, 3, 4, 4, 5, 6, 4, 7, 7, 8, 8, 9, 2, 9, 10, 10, 11, 12, 12, 9, 13, 2, 2, 2, 2, 4, 4, 11, 9, 9, 2, 2, 8, 8, 11]\n"
          ],
          "name": "stdout"
        }
      ]
    },
    {
      "cell_type": "code",
      "metadata": {
        "colab": {
          "base_uri": "https://localhost:8080/"
        },
        "id": "LUja7Dfntk2V",
        "outputId": "b4d78b20-325c-4eda-f108-5ffb51cd3917"
      },
      "source": [
        "sent_max_len = max(len(x) for x in X_train_ids)\n",
        "print(\"максимальная длина предложения:\", sent_max_len)"
      ],
      "execution_count": null,
      "outputs": [
        {
          "output_type": "stream",
          "text": [
            "максимальная длина предложения: 338\n"
          ],
          "name": "stdout"
        }
      ]
    },
    {
      "cell_type": "code",
      "metadata": {
        "id": "FaFNdo7MtyA4"
      },
      "source": [
        "# X_train = pad_sequences(X_train_ids, maxlen=sent_max_len, padding='post')\n",
        "# y_train = pad_sequences(y_train_ids, maxlen=sent_max_len, padding='post')\n",
        "\n",
        "X_train, X_test = pad_sequences(X_train_ids, maxlen=sent_max_len, padding='post'), pad_sequences(X_test_ids, maxlen=sent_max_len, padding='post')\n",
        "y_train, y_test = pad_sequences(y_train_ids, maxlen=sent_max_len, padding='post'), pad_sequences(y_test_ids, maxlen=sent_max_len, padding='post')"
      ],
      "execution_count": null,
      "outputs": []
    },
    {
      "cell_type": "code",
      "metadata": {
        "id": "JGbi_Nhtt4F1"
      },
      "source": [
        "# y_train = to_categorical(y_train, num_classes=len(tag2id))\n",
        "y_train, y_test = to_categorical(y_train, num_classes=len(tag2id)), \n",
        "to_categorical(y_test, num_classes=len(tag2id))\n"
      ],
      "execution_count": null,
      "outputs": []
    },
    {
      "cell_type": "code",
      "metadata": {
        "id": "siopYA-buR2W"
      },
      "source": [
        "# Indexing for tring of Russian tags\n",
        "\n",
        "ru2id = {'pad':0, 'unk':1}  \n",
        "for tags in rus:\n",
        "    for tag in tags:\n",
        "      if tag.lower() not in ru2id:\n",
        "        ru2id[tag.lower()] = len(ru2id)\n",
        "\n",
        "id2ru = {i:tag for tag, i in ru2id.items()}"
      ],
      "execution_count": null,
      "outputs": []
    },
    {
      "cell_type": "code",
      "metadata": {
        "id": "EOyVHMUJvmsj"
      },
      "source": [
        "# X_ru_train_ids = data2ints(rus, ru2id)\n",
        "# X_ru_train = pad_sequences(X_ru_train_ids, maxlen=sent_max_len, padding='post')\n",
        "\n",
        "X_ru_train_ids, X_ru_test_ids = data2ints(sent_train, ru2id), data2ints(sent_test, ru2id)\n",
        "X_ru_train, X_ru_test = pad_sequences(X_ru_train_ids, maxlen=sent_max_len, padding='post'), pad_sequences(X_ru_test_ids, maxlen=sent_max_len, padding='post')"
      ],
      "execution_count": null,
      "outputs": []
    },
    {
      "cell_type": "markdown",
      "metadata": {
        "id": "fVHktZsFsa2m"
      },
      "source": [
        "## Evaluate on train set"
      ]
    },
    {
      "cell_type": "markdown",
      "metadata": {
        "id": "4b8fHL6sseyG"
      },
      "source": [
        "### One input"
      ]
    },
    {
      "cell_type": "code",
      "metadata": {
        "id": "Uq-n7-wVuFu8"
      },
      "source": [
        "word_in = Input(shape=(sent_max_len))\n",
        "emb_word = Embedding(input_dim=len(word2id), output_dim=20, mask_zero=True)(word_in)\n",
        "lstm = Bidirectional(LSTM(units=128, return_sequences=True,recurrent_dropout=0.2))(emb_word)\n",
        "out = TimeDistributed(Dense(len(tag2id), activation=\"softmax\"))(lstm)\n",
        "\n",
        "model = Model(inputs= word_in, outputs=out)\n",
        "\n",
        "optimizer = optimizers.Adam(learning_rate=0.001)\n",
        "model.compile(optimizer=optimizer, loss=\"categorical_crossentropy\", metrics=[\"acc\"])"
      ],
      "execution_count": null,
      "outputs": []
    },
    {
      "cell_type": "code",
      "metadata": {
        "colab": {
          "base_uri": "https://localhost:8080/",
          "height": 688
        },
        "id": "FQjiq0QhuIsH",
        "outputId": "fbeae408-c832-4e01-ed4c-cfa026cfe42d"
      },
      "source": [
        "model.summary()\n",
        "\n",
        "plot_model(model, show_shapes=True, show_layer_names=False)"
      ],
      "execution_count": null,
      "outputs": [
        {
          "output_type": "stream",
          "text": [
            "Model: \"model_25\"\n",
            "_________________________________________________________________\n",
            "Layer (type)                 Output Shape              Param #   \n",
            "=================================================================\n",
            "input_116 (InputLayer)       [(None, 338)]             0         \n",
            "_________________________________________________________________\n",
            "embedding_113 (Embedding)    (None, 338, 20)           17160     \n",
            "_________________________________________________________________\n",
            "bidirectional_71 (Bidirectio (None, 338, 256)          152576    \n",
            "_________________________________________________________________\n",
            "time_distributed_18 (TimeDis (None, 338, 36)           9252      \n",
            "=================================================================\n",
            "Total params: 178,988\n",
            "Trainable params: 178,988\n",
            "Non-trainable params: 0\n",
            "_________________________________________________________________\n"
          ],
          "name": "stdout"
        },
        {
          "output_type": "execute_result",
          "data": {
            "image/png": "[encoded data removed]",
            "text/plain": [
              "<IPython.core.display.Image object>"
            ]
          },
          "metadata": {
            "tags": []
          },
          "execution_count": 204
        }
      ]
    },
    {
      "cell_type": "code",
      "metadata": {
        "colab": {
          "base_uri": "https://localhost:8080/"
        },
        "id": "VkR9JC40uPIY",
        "outputId": "033506a7-cff1-43b1-da91-073c90db346d"
      },
      "source": [
        "model.fit(X_train, y_train, validation_data=(X_train, y_train), batch_size=32, epochs=10, verbose=1)"
      ],
      "execution_count": null,
      "outputs": [
        {
          "output_type": "stream",
          "text": [
            "Epoch 1/10\n",
            "29/29 [==============================] - 44s 1s/step - loss: 0.3502 - acc: 0.1813 - val_loss: 0.2755 - val_acc: 0.2017\n",
            "Epoch 2/10\n",
            "29/29 [==============================] - 38s 1s/step - loss: 0.2659 - acc: 0.2018 - val_loss: 0.2669 - val_acc: 0.2120\n",
            "Epoch 3/10\n",
            "29/29 [==============================] - 39s 1s/step - loss: 0.2716 - acc: 0.2148 - val_loss: 0.2610 - val_acc: 0.2288\n",
            "Epoch 4/10\n",
            "29/29 [==============================] - 39s 1s/step - loss: 0.2587 - acc: 0.2570 - val_loss: 0.2476 - val_acc: 0.3454\n",
            "Epoch 5/10\n",
            "29/29 [==============================] - 40s 1s/step - loss: 0.2373 - acc: 0.3692 - val_loss: 0.2215 - val_acc: 0.4489\n",
            "Epoch 6/10\n",
            "29/29 [==============================] - 40s 1s/step - loss: 0.2073 - acc: 0.4507 - val_loss: 0.1884 - val_acc: 0.5187\n",
            "Epoch 7/10\n",
            "29/29 [==============================] - 39s 1s/step - loss: 0.1808 - acc: 0.5330 - val_loss: 0.1602 - val_acc: 0.5863\n",
            "Epoch 8/10\n",
            "29/29 [==============================] - 41s 1s/step - loss: 0.1515 - acc: 0.6042 - val_loss: 0.1361 - val_acc: 0.6513\n",
            "Epoch 9/10\n",
            "29/29 [==============================] - 40s 1s/step - loss: 0.1327 - acc: 0.6532 - val_loss: 0.1161 - val_acc: 0.6835\n",
            "Epoch 10/10\n",
            "29/29 [==============================] - 40s 1s/step - loss: 0.1149 - acc: 0.6896 - val_loss: 0.1023 - val_acc: 0.7173\n"
          ],
          "name": "stdout"
        },
        {
          "output_type": "execute_result",
          "data": {
            "text/plain": [
              "<tensorflow.python.keras.callbacks.History at 0x7efc8c6147d0>"
            ]
          },
          "metadata": {
            "tags": []
          },
          "execution_count": 205
        }
      ]
    },
    {
      "cell_type": "markdown",
      "metadata": {
        "id": "O9sKNyPDtKOP"
      },
      "source": [
        "### Two inputs"
      ]
    },
    {
      "cell_type": "code",
      "metadata": {
        "colab": {
          "base_uri": "https://localhost:8080/",
          "height": 228
        },
        "id": "cpckBeMx0OW4",
        "outputId": "77d90f9e-ff2a-494e-af3e-4b102c998a5c"
      },
      "source": [
        "# First input: characters\n",
        "\n",
        "word_in = Input(shape=(sent_max_len))\n",
        "emb_word = Embedding(input_dim=len(word2id), output_dim=12)(word_in)\n",
        "lstm = Bidirectional(LSTM(units=128, recurrent_dropout=0.3, return_sequences=True))(emb_word)\n",
        "\n",
        "# Second input: Russian tags\n",
        "char_in = Input(shape=(sent_max_len))\n",
        "emb_char = Embedding(input_dim=len(ru2id), output_dim=12, input_length=sent_max_len)(char_in)\n",
        "char_enc = Conv1D(filters=12, kernel_size=1)(emb_char)\n",
        "char_lstm = Bidirectional(LSTM(units=128, recurrent_dropout=0.2, return_sequences=True))(char_enc)\n",
        "\n",
        "# Concatenation of BiLSTMs\n",
        "x = concatenate([lstm, char_lstm])\n",
        "main_lstm = Bidirectional(LSTM(units=128,\n",
        "                               recurrent_dropout=0.2, return_sequences=True))(x)\n",
        "out = TimeDistributed(Dense(len(tag2id), activation=\"softmax\"))(main_lstm)\n",
        "\n",
        "model = Model(inputs=[char_in, word_in], outputs=out)\n",
        "\n",
        "optimizer = optimizers.Adam(learning_rate=0.001)\n",
        "\n",
        "model.compile(optimizer=optimizer, loss=\"categorical_crossentropy\", metrics=['acc'])"
      ],
      "execution_count": null,
      "outputs": [
        {
          "output_type": "error",
          "ename": "NameError",
          "evalue": "ignored",
          "traceback": [
            "\u001b[0;31m---------------------------------------------------------------------------\u001b[0m",
            "\u001b[0;31mNameError\u001b[0m                                 Traceback (most recent call last)",
            "\u001b[0;32m<ipython-input-1-5092e658de94>\u001b[0m in \u001b[0;36m<module>\u001b[0;34m()\u001b[0m\n\u001b[1;32m      1\u001b[0m \u001b[0;31m# один вход для слов\u001b[0m\u001b[0;34m\u001b[0m\u001b[0;34m\u001b[0m\u001b[0;34m\u001b[0m\u001b[0m\n\u001b[0;32m----> 2\u001b[0;31m \u001b[0mword_in\u001b[0m \u001b[0;34m=\u001b[0m \u001b[0mInput\u001b[0m\u001b[0;34m(\u001b[0m\u001b[0mshape\u001b[0m\u001b[0;34m=\u001b[0m\u001b[0;34m(\u001b[0m\u001b[0msent_max_len\u001b[0m\u001b[0;34m)\u001b[0m\u001b[0;34m)\u001b[0m\u001b[0;34m\u001b[0m\u001b[0;34m\u001b[0m\u001b[0m\n\u001b[0m\u001b[1;32m      3\u001b[0m \u001b[0memb_word\u001b[0m \u001b[0;34m=\u001b[0m \u001b[0mEmbedding\u001b[0m\u001b[0;34m(\u001b[0m\u001b[0minput_dim\u001b[0m\u001b[0;34m=\u001b[0m\u001b[0mlen\u001b[0m\u001b[0;34m(\u001b[0m\u001b[0mword2id\u001b[0m\u001b[0;34m)\u001b[0m\u001b[0;34m,\u001b[0m \u001b[0moutput_dim\u001b[0m\u001b[0;34m=\u001b[0m\u001b[0;36m12\u001b[0m\u001b[0;34m)\u001b[0m\u001b[0;34m(\u001b[0m\u001b[0mword_in\u001b[0m\u001b[0;34m)\u001b[0m\u001b[0;34m\u001b[0m\u001b[0;34m\u001b[0m\u001b[0m\n\u001b[1;32m      4\u001b[0m \u001b[0mlstm\u001b[0m \u001b[0;34m=\u001b[0m \u001b[0mBidirectional\u001b[0m\u001b[0;34m(\u001b[0m\u001b[0mLSTM\u001b[0m\u001b[0;34m(\u001b[0m\u001b[0munits\u001b[0m\u001b[0;34m=\u001b[0m\u001b[0;36m128\u001b[0m\u001b[0;34m,\u001b[0m \u001b[0mrecurrent_dropout\u001b[0m\u001b[0;34m=\u001b[0m\u001b[0;36m0.3\u001b[0m\u001b[0;34m,\u001b[0m \u001b[0mreturn_sequences\u001b[0m\u001b[0;34m=\u001b[0m\u001b[0;32mTrue\u001b[0m\u001b[0;34m)\u001b[0m\u001b[0;34m)\u001b[0m\u001b[0;34m(\u001b[0m\u001b[0memb_word\u001b[0m\u001b[0;34m)\u001b[0m\u001b[0;34m\u001b[0m\u001b[0;34m\u001b[0m\u001b[0m\n\u001b[1;32m      5\u001b[0m \u001b[0;34m\u001b[0m\u001b[0m\n",
            "\u001b[0;31mNameError\u001b[0m: name 'Input' is not defined"
          ]
        }
      ]
    },
    {
      "cell_type": "code",
      "metadata": {
        "colab": {
          "base_uri": "https://localhost:8080/"
        },
        "id": "FzBxxdoz1cBG",
        "outputId": "e5cba979-eded-4888-9418-fffd90f89fc6"
      },
      "source": [
        "plot_model(model, show_shapes=True, show_layer_names=False)\n",
        "model.summary()"
      ],
      "execution_count": null,
      "outputs": [
        {
          "output_type": "stream",
          "text": [
            "Model: \"model_27\"\n",
            "__________________________________________________________________________________________________\n",
            "Layer (type)                    Output Shape         Param #     Connected to                     \n",
            "==================================================================================================\n",
            "input_119 (InputLayer)          [(None, 338)]        0                                            \n",
            "__________________________________________________________________________________________________\n",
            "input_120 (InputLayer)          [(None, 338)]        0                                            \n",
            "__________________________________________________________________________________________________\n",
            "embedding_116 (Embedding)       (None, 338, 12)      10296       input_119[0][0]                  \n",
            "__________________________________________________________________________________________________\n",
            "embedding_117 (Embedding)       (None, 338, 12)      264         input_120[0][0]                  \n",
            "__________________________________________________________________________________________________\n",
            "bidirectional_75 (Bidirectional (None, 338, 256)     144384      embedding_116[0][0]              \n",
            "__________________________________________________________________________________________________\n",
            "bidirectional_76 (Bidirectional (None, 338, 256)     144384      embedding_117[0][0]              \n",
            "__________________________________________________________________________________________________\n",
            "concatenate_45 (Concatenate)    (None, 338, 512)     0           bidirectional_75[0][0]           \n",
            "                                                                 bidirectional_76[0][0]           \n",
            "__________________________________________________________________________________________________\n",
            "bidirectional_77 (Bidirectional (None, 256)          656384      concatenate_45[0][0]             \n",
            "__________________________________________________________________________________________________\n",
            "dense_34 (Dense)                (None, 338)          86866       bidirectional_77[0][0]           \n",
            "==================================================================================================\n",
            "Total params: 1,042,578\n",
            "Trainable params: 1,042,578\n",
            "Non-trainable params: 0\n",
            "__________________________________________________________________________________________________\n"
          ],
          "name": "stdout"
        }
      ]
    },
    {
      "cell_type": "code",
      "metadata": {
        "colab": {
          "base_uri": "https://localhost:8080/"
        },
        "id": "hfU-xtcT1nL3",
        "outputId": "660e83e6-912c-4d58-acfd-bf1c8f49dfb3"
      },
      "source": [
        "model.fit([X_ru_train, X_train], y_train, validation_data=([X_ru_train, X_train], y_train), batch_size=16, epochs=10, verbose=1)"
      ],
      "execution_count": null,
      "outputs": [
        {
          "output_type": "stream",
          "text": [
            "Epoch 1/10\n",
            "57/57 [==============================] - 267s 4s/step - loss: 1.3886 - acc: 0.8251 - val_loss: 0.2962 - val_acc: 0.9153\n",
            "Epoch 2/10\n",
            "57/57 [==============================] - 247s 4s/step - loss: 0.2945 - acc: 0.9121 - val_loss: 0.2697 - val_acc: 0.9151\n",
            "Epoch 3/10\n",
            "57/57 [==============================] - 252s 4s/step - loss: 0.2732 - acc: 0.9143 - val_loss: 0.2642 - val_acc: 0.9191\n",
            "Epoch 4/10\n",
            "57/57 [==============================] - 250s 4s/step - loss: 0.2633 - acc: 0.9188 - val_loss: 0.2605 - val_acc: 0.9195\n",
            "Epoch 5/10\n",
            "57/57 [==============================] - 251s 4s/step - loss: 0.2623 - acc: 0.9184 - val_loss: 0.2581 - val_acc: 0.9200\n",
            "Epoch 6/10\n",
            "57/57 [==============================] - 253s 4s/step - loss: 0.2668 - acc: 0.9176 - val_loss: 0.2514 - val_acc: 0.9234\n",
            "Epoch 7/10\n",
            "57/57 [==============================] - 253s 4s/step - loss: 0.2620 - acc: 0.9208 - val_loss: 0.2430 - val_acc: 0.9257\n",
            "Epoch 8/10\n",
            "57/57 [==============================] - 250s 4s/step - loss: 0.2352 - acc: 0.9284 - val_loss: 0.2357 - val_acc: 0.9288\n",
            "Epoch 9/10\n",
            "57/57 [==============================] - 246s 4s/step - loss: 0.2301 - acc: 0.9300 - val_loss: 0.2258 - val_acc: 0.9310\n",
            "Epoch 10/10\n",
            "57/57 [==============================] - 245s 4s/step - loss: 0.2240 - acc: 0.9317 - val_loss: 0.2080 - val_acc: 0.9377\n"
          ],
          "name": "stdout"
        },
        {
          "output_type": "execute_result",
          "data": {
            "text/plain": [
              "<tensorflow.python.keras.callbacks.History at 0x7efc86091e10>"
            ]
          },
          "metadata": {
            "tags": []
          },
          "execution_count": 238
        }
      ]
    },
    {
      "cell_type": "markdown",
      "metadata": {
        "id": "dPVe5lpgtpZt"
      },
      "source": [
        "After 10 epochs validation accuracy for 2-way model is better"
      ]
    },
    {
      "cell_type": "code",
      "metadata": {
        "id": "U0CK5fs1toGE"
      },
      "source": [
        ""
      ],
      "execution_count": null,
      "outputs": []
    },
    {
      "cell_type": "code",
      "metadata": {
        "id": "NpsIcrQa_KX0"
      },
      "source": [
        ""
      ],
      "execution_count": null,
      "outputs": []
    },
    {
      "cell_type": "markdown",
      "metadata": {
        "id": "bD7ktoSRtPa2"
      },
      "source": [
        "## Evaluate on test\n"
      ]
    },
    {
      "cell_type": "markdown",
      "metadata": {
        "id": "zapHtTVvuJf0"
      },
      "source": [
        "### One input"
      ]
    },
    {
      "cell_type": "code",
      "metadata": {
        "colab": {
          "base_uri": "https://localhost:8080/"
        },
        "id": "9LVCRa6ntZSi",
        "outputId": "1fb35b4d-454f-40e1-95a2-1ee76edbeb98"
      },
      "source": [
        "# Fine architecture: Conv1D + Bilstm + Bilstm + TimeDistributed\n",
        "\n",
        "word_in = Input(shape=(sent_max_len))\n",
        "emb_word = Embedding(input_dim=len(word2id), output_dim=20, mask_zero=True)(word_in)\n",
        "emb_enc = Conv1D(filters=12, kernel_size=1)(emb_word)\n",
        "\n",
        "lstm = Bidirectional(LSTM(units=128, return_sequences=True,recurrent_dropout=0.2))(emb_enc)\n",
        "lstm2 = Bidirectional(LSTM(units=128, return_sequences=True,recurrent_dropout=0.2))(lstm)\n",
        "out = TimeDistributed(Dense(len(tag2id), activation=\"softmax\"))(lstm2)\n",
        "\n",
        "model = Model(inputs= word_in, outputs=out)\n",
        "\n",
        "optimizer = optimizers.Adam(learning_rate=0.001)\n",
        "model.compile(optimizer=optimizer, loss=\"categorical_crossentropy\", metrics=[\"acc\"])"
      ],
      "execution_count": null,
      "outputs": [
        {
          "output_type": "stream",
          "text": [
            "WARNING:tensorflow:Layer lstm_2 will not use cuDNN kernel since it doesn't meet the cuDNN kernel criteria. It will use generic GPU kernel as fallback when running on GPU\n",
            "WARNING:tensorflow:Layer lstm_2 will not use cuDNN kernel since it doesn't meet the cuDNN kernel criteria. It will use generic GPU kernel as fallback when running on GPU\n",
            "WARNING:tensorflow:Layer lstm_2 will not use cuDNN kernel since it doesn't meet the cuDNN kernel criteria. It will use generic GPU kernel as fallback when running on GPU\n",
            "WARNING:tensorflow:Layer lstm_3 will not use cuDNN kernel since it doesn't meet the cuDNN kernel criteria. It will use generic GPU kernel as fallback when running on GPU\n",
            "WARNING:tensorflow:Layer lstm_3 will not use cuDNN kernel since it doesn't meet the cuDNN kernel criteria. It will use generic GPU kernel as fallback when running on GPU\n",
            "WARNING:tensorflow:Layer lstm_3 will not use cuDNN kernel since it doesn't meet the cuDNN kernel criteria. It will use generic GPU kernel as fallback when running on GPU\n"
          ],
          "name": "stdout"
        }
      ]
    },
    {
      "cell_type": "code",
      "metadata": {
        "colab": {
          "base_uri": "https://localhost:8080/",
          "height": 977
        },
        "id": "0DqkEFSutZSi",
        "outputId": "6dbe3a72-b937-4ff4-f268-c8efade08ea3"
      },
      "source": [
        "model.summary()\n",
        "\n",
        "plot_model(model, show_shapes=True, show_layer_names=False)"
      ],
      "execution_count": null,
      "outputs": [
        {
          "output_type": "stream",
          "text": [
            "Model: \"model_1\"\n",
            "_________________________________________________________________\n",
            "Layer (type)                 Output Shape              Param #   \n",
            "=================================================================\n",
            "input_2 (InputLayer)         [(None, 338)]             0         \n",
            "_________________________________________________________________\n",
            "embedding_1 (Embedding)      (None, 338, 20)           14960     \n",
            "_________________________________________________________________\n",
            "conv1d_1 (Conv1D)            (None, 338, 12)           252       \n",
            "_________________________________________________________________\n",
            "bidirectional_2 (Bidirection (None, 338, 256)          144384    \n",
            "_________________________________________________________________\n",
            "bidirectional_3 (Bidirection (None, 338, 256)          394240    \n",
            "_________________________________________________________________\n",
            "time_distributed_1 (TimeDist (None, 338, 35)           8995      \n",
            "=================================================================\n",
            "Total params: 562,831\n",
            "Trainable params: 562,831\n",
            "Non-trainable params: 0\n",
            "_________________________________________________________________\n"
          ],
          "name": "stdout"
        },
        {
          "output_type": "execute_result",
          "data": {
            "image/png": "[encoded data removed]",
            "text/plain": [
              "<IPython.core.display.Image object>"
            ]
          },
          "metadata": {
            "tags": []
          },
          "execution_count": 22
        }
      ]
    },
    {
      "cell_type": "code",
      "metadata": {
        "colab": {
          "base_uri": "https://localhost:8080/"
        },
        "id": "kfOYrfEMtnn8",
        "outputId": "a9f5ed5d-a750-445a-ff9b-7bd0dbf074d7"
      },
      "source": [
        "model.fit(X_train, y_train, validation_data=(X_test, y_test), batch_size=16, epochs=30, verbose=1) "
      ],
      "execution_count": null,
      "outputs": [
        {
          "output_type": "stream",
          "text": [
            "Epoch 1/30\n",
            "46/46 [==============================] - 197s 3s/step - loss: 1.6156 - acc: 0.8866 - val_loss: 0.3071 - val_acc: 0.9082\n",
            "Epoch 2/30\n",
            "46/46 [==============================] - 157s 3s/step - loss: 0.2941 - acc: 0.9117 - val_loss: 0.2578 - val_acc: 0.9200\n",
            "Epoch 3/30\n",
            "46/46 [==============================] - 160s 3s/step - loss: 0.2776 - acc: 0.9140 - val_loss: 0.2525 - val_acc: 0.9212\n",
            "Epoch 4/30\n",
            "46/46 [==============================] - 159s 3s/step - loss: 0.2838 - acc: 0.9118 - val_loss: 0.2497 - val_acc: 0.9219\n",
            "Epoch 5/30\n",
            "46/46 [==============================] - 158s 3s/step - loss: 0.2741 - acc: 0.9151 - val_loss: 0.2471 - val_acc: 0.9241\n",
            "Epoch 6/30\n",
            "46/46 [==============================] - 159s 3s/step - loss: 0.2670 - acc: 0.9185 - val_loss: 0.2444 - val_acc: 0.9262\n",
            "Epoch 7/30\n",
            "46/46 [==============================] - 158s 3s/step - loss: 0.2528 - acc: 0.9226 - val_loss: 0.2397 - val_acc: 0.9270\n",
            "Epoch 8/30\n",
            "46/46 [==============================] - 156s 3s/step - loss: 0.2535 - acc: 0.9226 - val_loss: 0.2358 - val_acc: 0.9277\n",
            "Epoch 9/30\n",
            "46/46 [==============================] - 157s 3s/step - loss: 0.2630 - acc: 0.9200 - val_loss: 0.2322 - val_acc: 0.9285\n",
            "Epoch 10/30\n",
            "46/46 [==============================] - 158s 3s/step - loss: 0.2450 - acc: 0.9245 - val_loss: 0.2296 - val_acc: 0.9301\n",
            "Epoch 11/30\n",
            "46/46 [==============================] - 157s 3s/step - loss: 0.2379 - acc: 0.9268 - val_loss: 0.2256 - val_acc: 0.9327\n",
            "Epoch 12/30\n",
            "46/46 [==============================] - 158s 3s/step - loss: 0.2377 - acc: 0.9289 - val_loss: 0.2192 - val_acc: 0.9356\n",
            "Epoch 13/30\n",
            "46/46 [==============================] - 158s 3s/step - loss: 0.2433 - acc: 0.9283 - val_loss: 0.2132 - val_acc: 0.9372\n",
            "Epoch 14/30\n",
            "46/46 [==============================] - 157s 3s/step - loss: 0.2270 - acc: 0.9329 - val_loss: 0.1996 - val_acc: 0.9417\n",
            "Epoch 15/30\n",
            "46/46 [==============================] - 155s 3s/step - loss: 0.2177 - acc: 0.9359 - val_loss: 0.1826 - val_acc: 0.9483\n",
            "Epoch 16/30\n",
            "46/46 [==============================] - 155s 3s/step - loss: 0.1911 - acc: 0.9462 - val_loss: 0.1616 - val_acc: 0.9561\n",
            "Epoch 17/30\n",
            "46/46 [==============================] - 156s 3s/step - loss: 0.1694 - acc: 0.9536 - val_loss: 0.1491 - val_acc: 0.9589\n",
            "Epoch 18/30\n",
            "46/46 [==============================] - 156s 3s/step - loss: 0.1434 - acc: 0.9596 - val_loss: 0.1397 - val_acc: 0.9604\n",
            "Epoch 19/30\n",
            "46/46 [==============================] - 156s 3s/step - loss: 0.1426 - acc: 0.9591 - val_loss: 0.1300 - val_acc: 0.9629\n",
            "Epoch 20/30\n",
            "46/46 [==============================] - 156s 3s/step - loss: 0.1246 - acc: 0.9639 - val_loss: 0.1194 - val_acc: 0.9660\n",
            "Epoch 21/30\n",
            "46/46 [==============================] - 157s 3s/step - loss: 0.1163 - acc: 0.9663 - val_loss: 0.1115 - val_acc: 0.9685\n",
            "Epoch 22/30\n",
            "46/46 [==============================] - 156s 3s/step - loss: 0.1173 - acc: 0.9676 - val_loss: 0.2332 - val_acc: 0.9406\n",
            "Epoch 23/30\n",
            "46/46 [==============================] - 157s 3s/step - loss: 0.1820 - acc: 0.9530 - val_loss: 0.1120 - val_acc: 0.9685\n",
            "Epoch 24/30\n",
            "46/46 [==============================] - 157s 3s/step - loss: 0.1184 - acc: 0.9658 - val_loss: 0.1037 - val_acc: 0.9707\n",
            "Epoch 25/30\n",
            "46/46 [==============================] - 155s 3s/step - loss: 0.0959 - acc: 0.9718 - val_loss: 0.0998 - val_acc: 0.9715\n",
            "Epoch 26/30\n",
            "46/46 [==============================] - 155s 3s/step - loss: 0.0928 - acc: 0.9727 - val_loss: 0.0978 - val_acc: 0.9715\n",
            "Epoch 27/30\n",
            "46/46 [==============================] - 155s 3s/step - loss: 0.0953 - acc: 0.9715 - val_loss: 0.0946 - val_acc: 0.9728\n",
            "Epoch 28/30\n",
            "46/46 [==============================] - 158s 3s/step - loss: 0.0823 - acc: 0.9757 - val_loss: 0.0931 - val_acc: 0.9729\n",
            "Epoch 29/30\n",
            "46/46 [==============================] - 156s 3s/step - loss: 0.0849 - acc: 0.9747 - val_loss: 0.0910 - val_acc: 0.9735\n",
            "Epoch 30/30\n",
            "46/46 [==============================] - 156s 3s/step - loss: 0.0849 - acc: 0.9745 - val_loss: 0.0899 - val_acc: 0.9736\n"
          ],
          "name": "stdout"
        },
        {
          "output_type": "execute_result",
          "data": {
            "text/plain": [
              "<tensorflow.python.keras.callbacks.History at 0x7fba5021e390>"
            ]
          },
          "metadata": {
            "tags": []
          },
          "execution_count": 19
        }
      ]
    },
    {
      "cell_type": "code",
      "metadata": {
        "id": "_PvicwbQvOLn"
      },
      "source": [
        "model_one = model"
      ],
      "execution_count": null,
      "outputs": []
    },
    {
      "cell_type": "code",
      "metadata": {
        "colab": {
          "base_uri": "https://localhost:8080/",
          "height": 702
        },
        "id": "IIDlMKCcvrkS",
        "outputId": "825096f9-93aa-426d-82ff-1d5b124661bb"
      },
      "source": [
        "# training  for 10 more epochs\n",
        "\n",
        "model_one.fit(X_train, y_train, validation_data=(X_test, y_test), batch_size=16, epochs=30, verbose=1)"
      ],
      "execution_count": null,
      "outputs": [
        {
          "output_type": "stream",
          "text": [
            "Epoch 1/30\n",
            "46/46 [==============================] - 159s 3s/step - loss: 0.0810 - acc: 0.9756 - val_loss: 0.0890 - val_acc: 0.9738\n",
            "Epoch 2/30\n",
            "46/46 [==============================] - 158s 3s/step - loss: 0.0788 - acc: 0.9763 - val_loss: 0.0870 - val_acc: 0.9748\n",
            "Epoch 3/30\n",
            "46/46 [==============================] - 157s 3s/step - loss: 0.0779 - acc: 0.9765 - val_loss: 0.0864 - val_acc: 0.9750\n",
            "Epoch 4/30\n",
            "46/46 [==============================] - 157s 3s/step - loss: 0.0760 - acc: 0.9768 - val_loss: 0.0861 - val_acc: 0.9748\n",
            "Epoch 5/30\n",
            "46/46 [==============================] - 157s 3s/step - loss: 0.0750 - acc: 0.9770 - val_loss: 0.0851 - val_acc: 0.9753\n",
            "Epoch 6/30\n",
            "46/46 [==============================] - 157s 3s/step - loss: 0.0736 - acc: 0.9774 - val_loss: 0.0841 - val_acc: 0.9754\n",
            "Epoch 7/30\n",
            "46/46 [==============================] - 156s 3s/step - loss: 0.0717 - acc: 0.9780 - val_loss: 0.0833 - val_acc: 0.9755\n",
            "Epoch 8/30\n",
            "46/46 [==============================] - 156s 3s/step - loss: 0.0708 - acc: 0.9779 - val_loss: 0.0834 - val_acc: 0.9755\n",
            "Epoch 9/30\n",
            "46/46 [==============================] - 156s 3s/step - loss: 0.0697 - acc: 0.9782 - val_loss: 0.0840 - val_acc: 0.9752\n",
            "Epoch 10/30\n",
            "46/46 [==============================] - 156s 3s/step - loss: 0.0687 - acc: 0.9787 - val_loss: 0.0826 - val_acc: 0.9754\n",
            "Epoch 11/30\n",
            "46/46 [==============================] - 156s 3s/step - loss: 0.0676 - acc: 0.9791 - val_loss: 0.0821 - val_acc: 0.9760\n",
            "Epoch 12/30\n",
            "22/46 [=============>................] - ETA: 1:20 - loss: 0.0640 - acc: 0.9797"
          ],
          "name": "stdout"
        },
        {
          "output_type": "error",
          "ename": "KeyboardInterrupt",
          "evalue": "ignored",
          "traceback": [
            "\u001b[0;31m---------------------------------------------------------------------------\u001b[0m",
            "\u001b[0;31mKeyboardInterrupt\u001b[0m                         Traceback (most recent call last)",
            "\u001b[0;32m<ipython-input-26-8c497b792e31>\u001b[0m in \u001b[0;36m<module>\u001b[0;34m()\u001b[0m\n\u001b[0;32m----> 1\u001b[0;31m \u001b[0mmodel_one\u001b[0m\u001b[0;34m.\u001b[0m\u001b[0mfit\u001b[0m\u001b[0;34m(\u001b[0m\u001b[0mX_train\u001b[0m\u001b[0;34m,\u001b[0m \u001b[0my_train\u001b[0m\u001b[0;34m,\u001b[0m \u001b[0mvalidation_data\u001b[0m\u001b[0;34m=\u001b[0m\u001b[0;34m(\u001b[0m\u001b[0mX_test\u001b[0m\u001b[0;34m,\u001b[0m \u001b[0my_test\u001b[0m\u001b[0;34m)\u001b[0m\u001b[0;34m,\u001b[0m \u001b[0mbatch_size\u001b[0m\u001b[0;34m=\u001b[0m\u001b[0;36m16\u001b[0m\u001b[0;34m,\u001b[0m \u001b[0mepochs\u001b[0m\u001b[0;34m=\u001b[0m\u001b[0;36m30\u001b[0m\u001b[0;34m,\u001b[0m \u001b[0mverbose\u001b[0m\u001b[0;34m=\u001b[0m\u001b[0;36m1\u001b[0m\u001b[0;34m)\u001b[0m\u001b[0;34m\u001b[0m\u001b[0;34m\u001b[0m\u001b[0m\n\u001b[0m",
            "\u001b[0;32m/usr/local/lib/python3.7/dist-packages/tensorflow/python/keras/engine/training.py\u001b[0m in \u001b[0;36mfit\u001b[0;34m(self, x, y, batch_size, epochs, verbose, callbacks, validation_split, validation_data, shuffle, class_weight, sample_weight, initial_epoch, steps_per_epoch, validation_steps, validation_batch_size, validation_freq, max_queue_size, workers, use_multiprocessing)\u001b[0m\n\u001b[1;32m   1098\u001b[0m                 _r=1):\n\u001b[1;32m   1099\u001b[0m               \u001b[0mcallbacks\u001b[0m\u001b[0;34m.\u001b[0m\u001b[0mon_train_batch_begin\u001b[0m\u001b[0;34m(\u001b[0m\u001b[0mstep\u001b[0m\u001b[0;34m)\u001b[0m\u001b[0;34m\u001b[0m\u001b[0;34m\u001b[0m\u001b[0m\n\u001b[0;32m-> 1100\u001b[0;31m               \u001b[0mtmp_logs\u001b[0m \u001b[0;34m=\u001b[0m \u001b[0mself\u001b[0m\u001b[0;34m.\u001b[0m\u001b[0mtrain_function\u001b[0m\u001b[0;34m(\u001b[0m\u001b[0miterator\u001b[0m\u001b[0;34m)\u001b[0m\u001b[0;34m\u001b[0m\u001b[0;34m\u001b[0m\u001b[0m\n\u001b[0m\u001b[1;32m   1101\u001b[0m               \u001b[0;32mif\u001b[0m \u001b[0mdata_handler\u001b[0m\u001b[0;34m.\u001b[0m\u001b[0mshould_sync\u001b[0m\u001b[0;34m:\u001b[0m\u001b[0;34m\u001b[0m\u001b[0;34m\u001b[0m\u001b[0m\n\u001b[1;32m   1102\u001b[0m                 \u001b[0mcontext\u001b[0m\u001b[0;34m.\u001b[0m\u001b[0masync_wait\u001b[0m\u001b[0;34m(\u001b[0m\u001b[0;34m)\u001b[0m\u001b[0;34m\u001b[0m\u001b[0;34m\u001b[0m\u001b[0m\n",
            "\u001b[0;32m/usr/local/lib/python3.7/dist-packages/tensorflow/python/eager/def_function.py\u001b[0m in \u001b[0;36m__call__\u001b[0;34m(self, *args, **kwds)\u001b[0m\n\u001b[1;32m    826\u001b[0m     \u001b[0mtracing_count\u001b[0m \u001b[0;34m=\u001b[0m \u001b[0mself\u001b[0m\u001b[0;34m.\u001b[0m\u001b[0mexperimental_get_tracing_count\u001b[0m\u001b[0;34m(\u001b[0m\u001b[0;34m)\u001b[0m\u001b[0;34m\u001b[0m\u001b[0;34m\u001b[0m\u001b[0m\n\u001b[1;32m    827\u001b[0m     \u001b[0;32mwith\u001b[0m \u001b[0mtrace\u001b[0m\u001b[0;34m.\u001b[0m\u001b[0mTrace\u001b[0m\u001b[0;34m(\u001b[0m\u001b[0mself\u001b[0m\u001b[0;34m.\u001b[0m\u001b[0m_name\u001b[0m\u001b[0;34m)\u001b[0m \u001b[0;32mas\u001b[0m \u001b[0mtm\u001b[0m\u001b[0;34m:\u001b[0m\u001b[0;34m\u001b[0m\u001b[0;34m\u001b[0m\u001b[0m\n\u001b[0;32m--> 828\u001b[0;31m       \u001b[0mresult\u001b[0m \u001b[0;34m=\u001b[0m \u001b[0mself\u001b[0m\u001b[0;34m.\u001b[0m\u001b[0m_call\u001b[0m\u001b[0;34m(\u001b[0m\u001b[0;34m*\u001b[0m\u001b[0margs\u001b[0m\u001b[0;34m,\u001b[0m \u001b[0;34m**\u001b[0m\u001b[0mkwds\u001b[0m\u001b[0;34m)\u001b[0m\u001b[0;34m\u001b[0m\u001b[0;34m\u001b[0m\u001b[0m\n\u001b[0m\u001b[1;32m    829\u001b[0m       \u001b[0mcompiler\u001b[0m \u001b[0;34m=\u001b[0m \u001b[0;34m\"xla\"\u001b[0m \u001b[0;32mif\u001b[0m \u001b[0mself\u001b[0m\u001b[0;34m.\u001b[0m\u001b[0m_experimental_compile\u001b[0m \u001b[0;32melse\u001b[0m \u001b[0;34m\"nonXla\"\u001b[0m\u001b[0;34m\u001b[0m\u001b[0;34m\u001b[0m\u001b[0m\n\u001b[1;32m    830\u001b[0m       \u001b[0mnew_tracing_count\u001b[0m \u001b[0;34m=\u001b[0m \u001b[0mself\u001b[0m\u001b[0;34m.\u001b[0m\u001b[0mexperimental_get_tracing_count\u001b[0m\u001b[0;34m(\u001b[0m\u001b[0;34m)\u001b[0m\u001b[0;34m\u001b[0m\u001b[0;34m\u001b[0m\u001b[0m\n",
            "\u001b[0;32m/usr/local/lib/python3.7/dist-packages/tensorflow/python/eager/def_function.py\u001b[0m in \u001b[0;36m_call\u001b[0;34m(self, *args, **kwds)\u001b[0m\n\u001b[1;32m    853\u001b[0m       \u001b[0;31m# In this case we have created variables on the first call, so we run the\u001b[0m\u001b[0;34m\u001b[0m\u001b[0;34m\u001b[0m\u001b[0;34m\u001b[0m\u001b[0m\n\u001b[1;32m    854\u001b[0m       \u001b[0;31m# defunned version which is guaranteed to never create variables.\u001b[0m\u001b[0;34m\u001b[0m\u001b[0;34m\u001b[0m\u001b[0;34m\u001b[0m\u001b[0m\n\u001b[0;32m--> 855\u001b[0;31m       \u001b[0;32mreturn\u001b[0m \u001b[0mself\u001b[0m\u001b[0;34m.\u001b[0m\u001b[0m_stateless_fn\u001b[0m\u001b[0;34m(\u001b[0m\u001b[0;34m*\u001b[0m\u001b[0margs\u001b[0m\u001b[0;34m,\u001b[0m \u001b[0;34m**\u001b[0m\u001b[0mkwds\u001b[0m\u001b[0;34m)\u001b[0m  \u001b[0;31m# pylint: disable=not-callable\u001b[0m\u001b[0;34m\u001b[0m\u001b[0;34m\u001b[0m\u001b[0m\n\u001b[0m\u001b[1;32m    856\u001b[0m     \u001b[0;32melif\u001b[0m \u001b[0mself\u001b[0m\u001b[0;34m.\u001b[0m\u001b[0m_stateful_fn\u001b[0m \u001b[0;32mis\u001b[0m \u001b[0;32mnot\u001b[0m \u001b[0;32mNone\u001b[0m\u001b[0;34m:\u001b[0m\u001b[0;34m\u001b[0m\u001b[0;34m\u001b[0m\u001b[0m\n\u001b[1;32m    857\u001b[0m       \u001b[0;31m# Release the lock early so that multiple threads can perform the call\u001b[0m\u001b[0;34m\u001b[0m\u001b[0;34m\u001b[0m\u001b[0;34m\u001b[0m\u001b[0m\n",
            "\u001b[0;32m/usr/local/lib/python3.7/dist-packages/tensorflow/python/eager/function.py\u001b[0m in \u001b[0;36m__call__\u001b[0;34m(self, *args, **kwargs)\u001b[0m\n\u001b[1;32m   2941\u001b[0m        filtered_flat_args) = self._maybe_define_function(args, kwargs)\n\u001b[1;32m   2942\u001b[0m     return graph_function._call_flat(\n\u001b[0;32m-> 2943\u001b[0;31m         filtered_flat_args, captured_inputs=graph_function.captured_inputs)  # pylint: disable=protected-access\n\u001b[0m\u001b[1;32m   2944\u001b[0m \u001b[0;34m\u001b[0m\u001b[0m\n\u001b[1;32m   2945\u001b[0m   \u001b[0;34m@\u001b[0m\u001b[0mproperty\u001b[0m\u001b[0;34m\u001b[0m\u001b[0;34m\u001b[0m\u001b[0m\n",
            "\u001b[0;32m/usr/local/lib/python3.7/dist-packages/tensorflow/python/eager/function.py\u001b[0m in \u001b[0;36m_call_flat\u001b[0;34m(self, args, captured_inputs, cancellation_manager)\u001b[0m\n\u001b[1;32m   1917\u001b[0m       \u001b[0;31m# No tape is watching; skip to running the function.\u001b[0m\u001b[0;34m\u001b[0m\u001b[0;34m\u001b[0m\u001b[0;34m\u001b[0m\u001b[0m\n\u001b[1;32m   1918\u001b[0m       return self._build_call_outputs(self._inference_function.call(\n\u001b[0;32m-> 1919\u001b[0;31m           ctx, args, cancellation_manager=cancellation_manager))\n\u001b[0m\u001b[1;32m   1920\u001b[0m     forward_backward = self._select_forward_and_backward_functions(\n\u001b[1;32m   1921\u001b[0m         \u001b[0margs\u001b[0m\u001b[0;34m,\u001b[0m\u001b[0;34m\u001b[0m\u001b[0;34m\u001b[0m\u001b[0m\n",
            "\u001b[0;32m/usr/local/lib/python3.7/dist-packages/tensorflow/python/eager/function.py\u001b[0m in \u001b[0;36mcall\u001b[0;34m(self, ctx, args, cancellation_manager)\u001b[0m\n\u001b[1;32m    558\u001b[0m               \u001b[0minputs\u001b[0m\u001b[0;34m=\u001b[0m\u001b[0margs\u001b[0m\u001b[0;34m,\u001b[0m\u001b[0;34m\u001b[0m\u001b[0;34m\u001b[0m\u001b[0m\n\u001b[1;32m    559\u001b[0m               \u001b[0mattrs\u001b[0m\u001b[0;34m=\u001b[0m\u001b[0mattrs\u001b[0m\u001b[0;34m,\u001b[0m\u001b[0;34m\u001b[0m\u001b[0;34m\u001b[0m\u001b[0m\n\u001b[0;32m--> 560\u001b[0;31m               ctx=ctx)\n\u001b[0m\u001b[1;32m    561\u001b[0m         \u001b[0;32melse\u001b[0m\u001b[0;34m:\u001b[0m\u001b[0;34m\u001b[0m\u001b[0;34m\u001b[0m\u001b[0m\n\u001b[1;32m    562\u001b[0m           outputs = execute.execute_with_cancellation(\n",
            "\u001b[0;32m/usr/local/lib/python3.7/dist-packages/tensorflow/python/eager/execute.py\u001b[0m in \u001b[0;36mquick_execute\u001b[0;34m(op_name, num_outputs, inputs, attrs, ctx, name)\u001b[0m\n\u001b[1;32m     58\u001b[0m     \u001b[0mctx\u001b[0m\u001b[0;34m.\u001b[0m\u001b[0mensure_initialized\u001b[0m\u001b[0;34m(\u001b[0m\u001b[0;34m)\u001b[0m\u001b[0;34m\u001b[0m\u001b[0;34m\u001b[0m\u001b[0m\n\u001b[1;32m     59\u001b[0m     tensors = pywrap_tfe.TFE_Py_Execute(ctx._handle, device_name, op_name,\n\u001b[0;32m---> 60\u001b[0;31m                                         inputs, attrs, num_outputs)\n\u001b[0m\u001b[1;32m     61\u001b[0m   \u001b[0;32mexcept\u001b[0m \u001b[0mcore\u001b[0m\u001b[0;34m.\u001b[0m\u001b[0m_NotOkStatusException\u001b[0m \u001b[0;32mas\u001b[0m \u001b[0me\u001b[0m\u001b[0;34m:\u001b[0m\u001b[0;34m\u001b[0m\u001b[0;34m\u001b[0m\u001b[0m\n\u001b[1;32m     62\u001b[0m     \u001b[0;32mif\u001b[0m \u001b[0mname\u001b[0m \u001b[0;32mis\u001b[0m \u001b[0;32mnot\u001b[0m \u001b[0;32mNone\u001b[0m\u001b[0;34m:\u001b[0m\u001b[0;34m\u001b[0m\u001b[0;34m\u001b[0m\u001b[0m\n",
            "\u001b[0;31mKeyboardInterrupt\u001b[0m: "
          ]
        }
      ]
    },
    {
      "cell_type": "markdown",
      "metadata": {
        "id": "tpOgqNtOvQ-G"
      },
      "source": [
        "### Two inputs\n"
      ]
    },
    {
      "cell_type": "code",
      "metadata": {
        "colab": {
          "base_uri": "https://localhost:8080/"
        },
        "id": "O0V0ICIuvQ-H",
        "outputId": "b6715a60-fb3f-4be4-9bd6-ce8ba8b69299"
      },
      "source": [
        "# Input characters\n",
        "word_in = Input(shape=(sent_max_len))\n",
        "emb_word = Embedding(input_dim=len(word2id), output_dim=12)(word_in)\n",
        "lstm = Bidirectional(LSTM(units=128, recurrent_dropout=0.3, return_sequences=True))(emb_word)\n",
        "\n",
        "# Input russian tags\n",
        "char_in = Input(shape=(sent_max_len))\n",
        "emb_char = Embedding(input_dim=len(ru2id), output_dim=12, input_length=sent_max_len)(char_in)\n",
        "char_enc = Conv1D(filters=12, kernel_size=1)(emb_char)\n",
        "char_lstm = Bidirectional(LSTM(units=128, recurrent_dropout=0.2, return_sequences=True))(char_enc)\n",
        "\n",
        "# Concatenation and final BiLSTM\n",
        "x = concatenate([lstm, char_lstm])\n",
        "main_lstm = Bidirectional(LSTM(units=128,\n",
        "                               recurrent_dropout=0.2, return_sequences=True))(x)\n",
        "out = TimeDistributed(Dense(len(tag2id)\n",
        "model = Model(inputs=[char_in, word_in], outputs=out)\n",
        "\n",
        "optimizer = optimizers.Adam(learning_rate=0.001)\n",
        "\n",
        "model.compile(optimizer=optimizer, loss=\"categorical_crossentropy\", metrics=['acc'])"
      ],
      "execution_count": null,
      "outputs": [
        {
          "output_type": "stream",
          "text": [
            "WARNING:tensorflow:Layer lstm_7 will not use cuDNN kernel since it doesn't meet the cuDNN kernel criteria. It will use generic GPU kernel as fallback when running on GPU\n",
            "WARNING:tensorflow:Layer lstm_7 will not use cuDNN kernel since it doesn't meet the cuDNN kernel criteria. It will use generic GPU kernel as fallback when running on GPU\n",
            "WARNING:tensorflow:Layer lstm_7 will not use cuDNN kernel since it doesn't meet the cuDNN kernel criteria. It will use generic GPU kernel as fallback when running on GPU\n",
            "(None, 338, 12)\n",
            "WARNING:tensorflow:Layer lstm_8 will not use cuDNN kernel since it doesn't meet the cuDNN kernel criteria. It will use generic GPU kernel as fallback when running on GPU\n",
            "WARNING:tensorflow:Layer lstm_8 will not use cuDNN kernel since it doesn't meet the cuDNN kernel criteria. It will use generic GPU kernel as fallback when running on GPU\n",
            "WARNING:tensorflow:Layer lstm_8 will not use cuDNN kernel since it doesn't meet the cuDNN kernel criteria. It will use generic GPU kernel as fallback when running on GPU\n",
            "(None, 338, 12)\n",
            "WARNING:tensorflow:Layer lstm_9 will not use cuDNN kernel since it doesn't meet the cuDNN kernel criteria. It will use generic GPU kernel as fallback when running on GPU\n",
            "WARNING:tensorflow:Layer lstm_9 will not use cuDNN kernel since it doesn't meet the cuDNN kernel criteria. It will use generic GPU kernel as fallback when running on GPU\n",
            "WARNING:tensorflow:Layer lstm_9 will not use cuDNN kernel since it doesn't meet the cuDNN kernel criteria. It will use generic GPU kernel as fallback when running on GPU\n",
            "(None, 338, 256)\n",
            "(None, 338, 35)\n",
            "shape (None, 338) (None, 338)\n"
          ],
          "name": "stdout"
        }
      ]
    },
    {
      "cell_type": "code",
      "metadata": {
        "colab": {
          "base_uri": "https://localhost:8080/",
          "height": 1000
        },
        "id": "YOPjy6hBvgHf",
        "outputId": "e1d24a13-f2dd-4005-fcb0-9223b4e03a82"
      },
      "source": [
        "model.summary()\n",
        "\n",
        "plot_model(model, show_shapes=True, show_layer_names=False)"
      ],
      "execution_count": null,
      "outputs": [
        {
          "output_type": "stream",
          "text": [
            "Model: \"model_3\"\n",
            "__________________________________________________________________________________________________\n",
            "Layer (type)                    Output Shape         Param #     Connected to                     \n",
            "==================================================================================================\n",
            "input_6 (InputLayer)            [(None, 338)]        0                                            \n",
            "__________________________________________________________________________________________________\n",
            "input_5 (InputLayer)            [(None, 338)]        0                                            \n",
            "__________________________________________________________________________________________________\n",
            "embedding_5 (Embedding)         (None, 338, 12)      324         input_6[0][0]                    \n",
            "__________________________________________________________________________________________________\n",
            "embedding_4 (Embedding)         (None, 338, 12)      8976        input_5[0][0]                    \n",
            "__________________________________________________________________________________________________\n",
            "conv1d_3 (Conv1D)               (None, 338, 12)      156         embedding_5[0][0]                \n",
            "__________________________________________________________________________________________________\n",
            "bidirectional_7 (Bidirectional) (None, 338, 256)     144384      embedding_4[0][0]                \n",
            "__________________________________________________________________________________________________\n",
            "bidirectional_8 (Bidirectional) (None, 338, 256)     144384      conv1d_3[0][0]                   \n",
            "__________________________________________________________________________________________________\n",
            "concatenate_1 (Concatenate)     (None, 338, 512)     0           bidirectional_7[0][0]            \n",
            "                                                                 bidirectional_8[0][0]            \n",
            "__________________________________________________________________________________________________\n",
            "bidirectional_9 (Bidirectional) (None, 338, 256)     656384      concatenate_1[0][0]              \n",
            "__________________________________________________________________________________________________\n",
            "time_distributed_3 (TimeDistrib (None, 338, 35)      8995        bidirectional_9[0][0]            \n",
            "==================================================================================================\n",
            "Total params: 963,603\n",
            "Trainable params: 963,603\n",
            "Non-trainable params: 0\n",
            "__________________________________________________________________________________________________\n"
          ],
          "name": "stdout"
        },
        {
          "output_type": "execute_result",
          "data": {
            "image/png": "[encoded data removed]",
            "text/plain": [
              "<IPython.core.display.Image object>"
            ]
          },
          "metadata": {
            "tags": []
          },
          "execution_count": 25
        }
      ]
    },
    {
      "cell_type": "code",
      "metadata": {
        "colab": {
          "base_uri": "https://localhost:8080/"
        },
        "id": "8HV-m1oCvQ-I",
        "outputId": "c3a0ebf4-cce1-4b06-acab-fedcfce9a797"
      },
      "source": [
        "model.fit([X_ru_train, X_train], y_train, validation_data=([X_ru_train, X_train], y_train), batch_size=16, epochs=30, verbose=1)"
      ],
      "execution_count": null,
      "outputs": [
        {
          "output_type": "stream",
          "text": [
            "Epoch 1/30\n",
            "46/46 [==============================] - 297s 6s/step - loss: 1.4678 - acc: 0.8099 - val_loss: 0.3148 - val_acc: 0.9120\n",
            "Epoch 2/30\n",
            "46/46 [==============================] - 258s 6s/step - loss: 0.2994 - acc: 0.9122 - val_loss: 0.2769 - val_acc: 0.9132\n",
            "Epoch 3/30\n",
            "46/46 [==============================] - 256s 6s/step - loss: 0.2768 - acc: 0.9139 - val_loss: 0.2700 - val_acc: 0.9128\n",
            "Epoch 4/30\n",
            "46/46 [==============================] - 255s 6s/step - loss: 0.2666 - acc: 0.9171 - val_loss: 0.2664 - val_acc: 0.9180\n",
            "Epoch 5/30\n",
            "46/46 [==============================] - 255s 6s/step - loss: 0.2594 - acc: 0.9197 - val_loss: 0.2644 - val_acc: 0.9186\n",
            "Epoch 6/30\n",
            "46/46 [==============================] - 254s 6s/step - loss: 0.2627 - acc: 0.9189 - val_loss: 0.2626 - val_acc: 0.9190\n",
            "Epoch 7/30\n",
            "46/46 [==============================] - 251s 5s/step - loss: 0.2603 - acc: 0.9193 - val_loss: 0.2632 - val_acc: 0.9175\n",
            "Epoch 8/30\n",
            "46/46 [==============================] - 252s 6s/step - loss: 0.2487 - acc: 0.9226 - val_loss: 0.2594 - val_acc: 0.9203\n",
            "Epoch 9/30\n",
            "46/46 [==============================] - 251s 5s/step - loss: 0.2608 - acc: 0.9202 - val_loss: 0.2533 - val_acc: 0.9237\n",
            "Epoch 10/30\n",
            "46/46 [==============================] - 251s 5s/step - loss: 0.2430 - acc: 0.9274 - val_loss: 0.2461 - val_acc: 0.9264\n",
            "Epoch 11/30\n",
            "46/46 [==============================] - 251s 5s/step - loss: 0.2399 - acc: 0.9283 - val_loss: 0.2381 - val_acc: 0.9292\n",
            "Epoch 12/30\n",
            "46/46 [==============================] - 253s 6s/step - loss: 0.2358 - acc: 0.9297 - val_loss: 0.2272 - val_acc: 0.9328\n",
            "Epoch 13/30\n",
            "46/46 [==============================] - 251s 5s/step - loss: 0.2187 - acc: 0.9354 - val_loss: 0.2049 - val_acc: 0.9402\n",
            "Epoch 14/30\n",
            "46/46 [==============================] - 251s 5s/step - loss: 0.2109 - acc: 0.9382 - val_loss: 0.1876 - val_acc: 0.9442\n",
            "Epoch 15/30\n",
            "46/46 [==============================] - 252s 5s/step - loss: 0.1838 - acc: 0.9459 - val_loss: 0.1774 - val_acc: 0.9473\n",
            "Epoch 16/30\n",
            "46/46 [==============================] - 256s 6s/step - loss: 0.1824 - acc: 0.9469 - val_loss: 0.1654 - val_acc: 0.9518\n",
            "Epoch 17/30\n",
            "46/46 [==============================] - 254s 6s/step - loss: 0.1669 - acc: 0.9516 - val_loss: 0.1591 - val_acc: 0.9549\n",
            "Epoch 18/30\n",
            "46/46 [==============================] - 255s 6s/step - loss: 0.1561 - acc: 0.9549 - val_loss: 0.1514 - val_acc: 0.9558\n",
            "Epoch 19/30\n",
            "46/46 [==============================] - 252s 5s/step - loss: 0.1526 - acc: 0.9557 - val_loss: 0.1453 - val_acc: 0.9572\n",
            "Epoch 20/30\n",
            "46/46 [==============================] - 252s 5s/step - loss: 0.1467 - acc: 0.9564 - val_loss: 0.1395 - val_acc: 0.9584\n",
            "Epoch 21/30\n",
            "46/46 [==============================] - 253s 6s/step - loss: 0.1380 - acc: 0.9585 - val_loss: 0.1322 - val_acc: 0.9606\n",
            "Epoch 22/30\n",
            "46/46 [==============================] - 253s 6s/step - loss: 0.1321 - acc: 0.9607 - val_loss: 0.1257 - val_acc: 0.9617\n",
            "Epoch 23/30\n",
            "46/46 [==============================] - 253s 6s/step - loss: 0.1229 - acc: 0.9639 - val_loss: 0.1163 - val_acc: 0.9661\n",
            "Epoch 24/30\n",
            "46/46 [==============================] - 254s 6s/step - loss: 0.1253 - acc: 0.9630 - val_loss: 0.1083 - val_acc: 0.9687\n",
            "Epoch 25/30\n",
            "46/46 [==============================] - 251s 5s/step - loss: 0.1177 - acc: 0.9657 - val_loss: 0.1027 - val_acc: 0.9699\n",
            "Epoch 26/30\n",
            "46/46 [==============================] - 254s 6s/step - loss: 0.1060 - acc: 0.9688 - val_loss: 0.0989 - val_acc: 0.9710\n",
            "Epoch 27/30\n",
            "46/46 [==============================] - 252s 5s/step - loss: 0.1013 - acc: 0.9703 - val_loss: 0.0950 - val_acc: 0.9724\n",
            "Epoch 28/30\n",
            "46/46 [==============================] - 253s 6s/step - loss: 0.0914 - acc: 0.9734 - val_loss: 0.0896 - val_acc: 0.9734\n",
            "Epoch 29/30\n",
            "46/46 [==============================] - 252s 5s/step - loss: 0.0953 - acc: 0.9719 - val_loss: 0.0861 - val_acc: 0.9744\n",
            "Epoch 30/30\n",
            "46/46 [==============================] - 253s 6s/step - loss: 0.0884 - acc: 0.9734 - val_loss: 0.0821 - val_acc: 0.9756\n"
          ],
          "name": "stdout"
        },
        {
          "output_type": "execute_result",
          "data": {
            "text/plain": [
              "<tensorflow.python.keras.callbacks.History at 0x7f5244006f50>"
            ]
          },
          "metadata": {
            "tags": []
          },
          "execution_count": 21
        }
      ]
    },
    {
      "cell_type": "code",
      "metadata": {
        "colab": {
          "base_uri": "https://localhost:8080/"
        },
        "id": "nC0UGCpuUuH_",
        "outputId": "281d1b8d-96d0-4b98-efb9-f843858c131f"
      },
      "source": [
        "model.save(f'{path}model2lstm')"
      ],
      "execution_count": null,
      "outputs": [
        {
          "output_type": "stream",
          "text": [
            "INFO:tensorflow:Assets written to: /content/drive/MyDrive/data/model2lstm/assets\n"
          ],
          "name": "stdout"
        }
      ]
    },
    {
      "cell_type": "code",
      "metadata": {
        "colab": {
          "base_uri": "https://localhost:8080/"
        },
        "id": "CgCBJLRu1arz",
        "outputId": "67d324bf-dfa3-46f7-94bd-094d8085a56a"
      },
      "source": [
        "# Train more for 10 more epochs\n",
        "\n",
        "model.fit([X_ru_train, X_train], y_train, validation_9data=([X_ru_train, X_train], y_train), batch_size=16, epochs=10, verbose=1)"
      ],
      "execution_count": null,
      "outputs": [
        {
          "output_type": "stream",
          "text": [
            "Epoch 1/10\n",
            "46/46 [==============================] - 256s 6s/step - loss: 0.0838 - acc: 0.9747 - val_loss: 0.0775 - val_acc: 0.9767\n",
            "Epoch 2/10\n",
            "46/46 [==============================] - 256s 6s/step - loss: 0.0794 - acc: 0.9758 - val_loss: 0.0745 - val_acc: 0.9774\n",
            "Epoch 3/10\n",
            "46/46 [==============================] - 256s 6s/step - loss: 0.0764 - acc: 0.9767 - val_loss: 0.0705 - val_acc: 0.9788\n",
            "Epoch 4/10\n",
            "46/46 [==============================] - 256s 6s/step - loss: 0.0732 - acc: 0.9778 - val_loss: 0.0680 - val_acc: 0.9796\n",
            "Epoch 5/10\n",
            "46/46 [==============================] - 255s 6s/step - loss: 0.0705 - acc: 0.9785 - val_loss: 0.0657 - val_acc: 0.9797\n",
            "Epoch 6/10\n",
            "46/46 [==============================] - 257s 6s/step - loss: 0.0679 - acc: 0.9789 - val_loss: 0.0621 - val_acc: 0.9805\n",
            "Epoch 7/10\n",
            "46/46 [==============================] - 254s 6s/step - loss: 0.0659 - acc: 0.9793 - val_loss: 0.0608 - val_acc: 0.9813\n",
            "Epoch 8/10\n",
            "46/46 [==============================] - 254s 6s/step - loss: 0.0633 - acc: 0.9803 - val_loss: 0.0583 - val_acc: 0.9820\n",
            "Epoch 9/10\n",
            "46/46 [==============================] - 253s 6s/step - loss: 0.0613 - acc: 0.9807 - val_loss: 0.0560 - val_acc: 0.9825\n",
            "Epoch 10/10\n",
            "46/46 [==============================] - 252s 5s/step - loss: 0.0593 - acc: 0.9811 - val_loss: 0.0544 - val_acc: 0.9828\n"
          ],
          "name": "stdout"
        },
        {
          "output_type": "execute_result",
          "data": {
            "text/plain": [
              "<tensorflow.python.keras.callbacks.History at 0x7f51ac1e8bd0>"
            ]
          },
          "metadata": {
            "tags": []
          },
          "execution_count": 28
        }
      ]
    },
    {
      "cell_type": "code",
      "metadata": {
        "id": "DkD-hWAHHyF3"
      },
      "source": [
        ""
      ],
      "execution_count": null,
      "outputs": []
    }
  ]
}